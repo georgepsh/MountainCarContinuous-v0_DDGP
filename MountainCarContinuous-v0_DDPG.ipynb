{
 "cells": [
  {
   "cell_type": "code",
   "execution_count": 1,
   "metadata": {},
   "outputs": [],
   "source": [
    "import gym\n",
    "import random\n",
    "import numpy as np\n",
    "import matplotlib.pyplot as plt\n",
    "from collections import namedtuple, deque\n",
    "import torch\n",
    "import torch.nn as nn\n",
    "import torch.optim as optim\n",
    "import torch.nn.functional as F\n",
    "import warnings\n",
    "warnings.filterwarnings(\"ignore\")"
   ]
  },
  {
   "cell_type": "code",
   "execution_count": 3,
   "metadata": {},
   "outputs": [],
   "source": [
    "device = torch.device(\"cuda\" if torch.cuda.is_available() else \"cpu\")\n",
    "\n",
    "env = gym.make('MountainCarContinuous-v0')\n",
    "n_actions = env.action_space.shape[0]\n",
    "n_states = env.observation_space.shape[0]"
   ]
  },
  {
   "cell_type": "markdown",
   "metadata": {},
   "source": [
    "### Replay Buffer"
   ]
  },
  {
   "cell_type": "code",
   "execution_count": 4,
   "metadata": {},
   "outputs": [],
   "source": [
    "Transition = namedtuple('Transition', ('state', 'action', 'next_state', 'reward', 'done'))\n",
    "\n",
    "\n",
    "class ReplayMemory(object):\n",
    "    def __init__(self, capacity):\n",
    "        self.capacity = capacity\n",
    "        self.memory = []\n",
    "        self.position = 0\n",
    "\n",
    "    def push(self, *args):\n",
    "        \"\"\"Saves a transition.\"\"\"\n",
    "        if len(self.memory) < self.capacity:\n",
    "            self.memory.append(None)\n",
    "        self.memory[self.position] = Transition(*args)\n",
    "        self.position = (self.position + 1) % self.capacity\n",
    "\n",
    "    def sample(self, batch_size):\n",
    "        return random.sample(self.memory, batch_size)\n",
    "\n",
    "    def __len__(self):\n",
    "        return len(self.memory)"
   ]
  },
  {
   "cell_type": "markdown",
   "metadata": {},
   "source": [
    "### Noise"
   ]
  },
  {
   "cell_type": "code",
   "execution_count": 6,
   "metadata": {},
   "outputs": [],
   "source": [
    "class Noise:\n",
    "    def __init__(self, mu, theta, sigma, action_dim):\n",
    "        self.mu = mu\n",
    "        self.theta = theta\n",
    "        self.sigma = sigma\n",
    "        self.action_dim = action_dim\n",
    "        self.state = self.reset()\n",
    "\n",
    "    def reset(self):\n",
    "        return np.full(self.action_dim, self.mu)\n",
    "\n",
    "    def make_noise(self):\n",
    "        delta = self.theta *(self.mu - self.state) + self.sigma * np.random.randn(len(self.state))\n",
    "        self.state = self.state + delta\n",
    "        return self.state"
   ]
  },
  {
   "cell_type": "markdown",
   "metadata": {},
   "source": [
    "### Critic"
   ]
  },
  {
   "cell_type": "code",
   "execution_count": 7,
   "metadata": {},
   "outputs": [],
   "source": [
    "class ValueNetwork(nn.Module):\n",
    "    def __init__(self, hidden_size_1, hidden_size_2, input_size, action_size):\n",
    "        super(ValueNetwork, self).__init__()\n",
    "\n",
    "        self.linear1 = nn.Linear(input_size, hidden_size_1)\n",
    "        self.linear2 = nn.Linear(hidden_size_1 + action_size, hidden_size_2)\n",
    "        self.linear3 = nn.Linear(hidden_size_2, 1)\n",
    "\n",
    "    def forward(self, state, action):\n",
    "        x = F.relu(self.linear1(state))\n",
    "        x = torch.cat((x, action), dim=1)\n",
    "        x = F.relu(self.linear2(x))\n",
    "        x = self.linear3(x)\n",
    "        return x"
   ]
  },
  {
   "cell_type": "markdown",
   "metadata": {},
   "source": [
    "### Actor"
   ]
  },
  {
   "cell_type": "code",
   "execution_count": 8,
   "metadata": {},
   "outputs": [],
   "source": [
    "class PolicyNetwork(nn.Module):\n",
    "    def __init__(self, hidden_size_1, hidden_size_2, input_size, action_size):\n",
    "        super(PolicyNetwork, self).__init__()\n",
    "\n",
    "        self.linear1 = nn.Linear(input_size, hidden_size_1)\n",
    "        self.linear2 = nn.Linear(hidden_size_1, hidden_size_2)\n",
    "        self.linear3 = nn.Linear(hidden_size_2, action_size)\n",
    "\n",
    "    def forward(self, state):\n",
    "        x = F.relu(self.linear1(state))\n",
    "        x = F.relu(self.linear2(x))\n",
    "        x = F.tanh(self.linear3(x))\n",
    "        return x"
   ]
  },
  {
   "cell_type": "markdown",
   "metadata": {},
   "source": [
    "### Model for DDPG"
   ]
  },
  {
   "cell_type": "markdown",
   "metadata": {},
   "source": [
    "* Метод Q_estimate - считает Q(s, a) при помощи онлайн Критик сети\n",
    "* Метод Q_target - тоже самое, при помощи таргет Критик сети\n",
    "* Методы action_estimate и action_target - аналогично, только для вычисления действий от стейта при помощи Актор сетей\n",
    "* Методы update_*_params делают бэкпроп и градиентные шаги для соответствующих сетей\n",
    "* Метод Actor_loss - лосс функция для Актор сети\n",
    "* Метод update_target_networks - обновляет таргет сети при помощи софт апдейт метода"
   ]
  },
  {
   "cell_type": "code",
   "execution_count": 9,
   "metadata": {},
   "outputs": [],
   "source": [
    "class DDPG:\n",
    "    def __init__(self, layers_sizes, polyak=0.9999,\\\n",
    "                 critic_lr=0.0001, critic_optim_method=optim.Adam, critic_loss=F.mse_loss, \\\n",
    "                 actor_lr=0.0001, actor_optim_method=optim.Adam):\n",
    "        self.polyak = polyak\n",
    "\n",
    "        self.CriticEstimate = ValueNetwork(*layers)\n",
    "        self.CriticTarget = ValueNetwork(*layers)\n",
    "        self.CriticTarget.load_state_dict(self.CriticEstimate.state_dict())\n",
    "        self.critic_loss = critic_loss\n",
    "        self.critic_optimizer = critic_optim_method(self.CriticEstimate.parameters(), lr=critic_lr)\n",
    "\n",
    "        self.ActorEstimate = PolicyNetwork(*layers)\n",
    "        self.ActorTarget = PolicyNetwork(*layers)\n",
    "        self.ActorTarget.load_state_dict(self.ActorEstimate.state_dict())\n",
    "        self.actor_optimizer = actor_optim_method(self.ActorEstimate.parameters(), lr=actor_lr)\n",
    "\n",
    "    def Q_estimate(self, state, action):\n",
    "        return self.CriticEstimate(state, action)\n",
    "\n",
    "    def Q_target(self, state, action):\n",
    "        return self.CriticTarget(state, action)\n",
    "\n",
    "    def action_estimate(self, state):\n",
    "        return self.ActorEstimate(state)\n",
    "\n",
    "    def action_target(self, state):\n",
    "        return self.ActorTarget(state)\n",
    "\n",
    "    def update_critic_params(self, estimates, targets):\n",
    "        loss = self.critic_loss(estimates, targets)\n",
    "        self.critic_optimizer.zero_grad()\n",
    "        loss.backward()\n",
    "\n",
    "        for param in self.CriticEstimate.parameters():\n",
    "            param.grad.data.clamp_(-1, 1)\n",
    "        self.critic_optimizer.step()\n",
    "\n",
    "    def update_actor_params(self, states):\n",
    "        loss = self.actor_loss(states)\n",
    "        self.actor_optimizer.zero_grad()\n",
    "        loss.backward()\n",
    "\n",
    "        for param in self.ActorEstimate.parameters():\n",
    "            param.grad.data.clamp_(-1, 1)\n",
    "        self.actor_optimizer.step()\n",
    "\n",
    "    def actor_loss(self, states):\n",
    "        actions = self.action_estimate(states)\n",
    "        return -self.Q_estimate(states, actions).mean()\n",
    "\n",
    "    def update_target_networks(self):\n",
    "        self.soft_update(self.ActorEstimate, self.ActorTarget)\n",
    "        self.soft_update(self.CriticEstimate, self.CriticTarget)\n",
    "\n",
    "    def soft_update(self, estimate_model, target_model):\n",
    "        for estimate_param, target_param in zip(estimate_model.parameters(), target_model.parameters()):\n",
    "            target_param.data.copy_(target_param.data * self.polyak + estimate_param * (1 - self.polyak))\n",
    "\n",
    "    def save(self, name):\n",
    "        torch.save(self.ActorEstimate, name)\n",
    "        print('------ Model saved ------')"
   ]
  },
  {
   "cell_type": "markdown",
   "metadata": {},
   "source": [
    "### Agent "
   ]
  },
  {
   "cell_type": "markdown",
   "metadata": {},
   "source": [
    "* Использует ДДПГ для обучения\n",
    "* Первые **exploration episodes** делает действия, которые сэмплятся из равномерного распределения\n",
    "* В последующих эпизодах сэмплит действия при помощи Актор сети + нойз\n",
    "* Использует experience replay после каждого шага\n",
    "* Софт апдейт таргет сетей в конце каждого шага\n",
    "* Собираем скор каждого эпизода в список. Если пять раз подряд средний скор за последние 10 эпизодов был больше 91, то останавливаем обучение\n",
    "* Использует модифицированную награду - плюс 10 * модуль скорости"
   ]
  },
  {
   "cell_type": "markdown",
   "metadata": {},
   "source": [
    "* Метод act - делает действие с помощью Актор сети\n",
    "* Метод optimize - это фактически experience replay\n",
    "* Метод train - обучение агента\n",
    "* Метод test - тестирует агента на заданном количестве эпизодов\n",
    "* Метод save - сохраняет Актор сеть в файл"
   ]
  },
  {
   "cell_type": "code",
   "execution_count": 11,
   "metadata": {},
   "outputs": [],
   "source": [
    "class Agent:\n",
    "    def __init__(self, env, Model, noise, goal, min_score, \\\n",
    "                gamma=0.99, batch_size=64, memory_size=100000, max_episode=2000, upd_rate=1, exploration_episodes=10):\n",
    "        self.env = env\n",
    "        self.Model = Model\n",
    "        self.noise = noise\n",
    "        self.goal = goal\n",
    "        self.min_score = min_score\n",
    "\n",
    "        self.gamma = gamma\n",
    "        self.batch_size = batch_size\n",
    "        self.memory = ReplayMemory(memory_size)\n",
    "        self.max_episode = max_episode\n",
    "        self.target_update_rate = upd_rate\n",
    "        self.exploration_episodes = exploration_episodes\n",
    "\n",
    "    def act(self, state, eps):\n",
    "        with torch.no_grad():\n",
    "            action = self.Model.action_estimate(state)\n",
    "            noise = torch.tensor(eps * self.noise.make_noise()).unsqueeze(0)\n",
    "            action += noise\n",
    "        return action.clamp_(self.env.action_space.low[0], self.env.action_space.high[0])\n",
    "\n",
    "    def optimize(self):\n",
    "        if len(self.memory) < self.batch_size:\n",
    "            return\n",
    "\n",
    "        transitions = self.memory.sample(self.batch_size)\n",
    "        batch = Transition(*zip(*transitions))\n",
    "\n",
    "        next_state_batch = torch.cat(batch.next_state)\n",
    "        state_batch = torch.cat(batch.state)\n",
    "        action_batch = torch.cat(batch.action)\n",
    "        reward_batch = torch.cat(batch.reward)\n",
    "        done_batch = torch.cat(batch.done)\n",
    "\n",
    "        estimates = self.Model.Q_estimate(state_batch, action_batch)\n",
    "        Q_next = torch.zeros(self.batch_size, device=device).unsqueeze(1)\n",
    "        with torch.no_grad():\n",
    "            next_actions = self.Model.action_target(next_state_batch)\n",
    "            Q_next[~done_batch] = self.Model.Q_target(next_state_batch, next_actions)[~done_batch]\n",
    "        targets = reward_batch.unsqueeze(1) + self.gamma * Q_next\n",
    "        self.Model.update_critic_params(estimates, targets)\n",
    "        self.Model.update_actor_params(state_batch)\n",
    "\n",
    "\n",
    "    def train(self):\n",
    "        all_scores = []\n",
    "        successful_sequences = 0\n",
    "        step = 0\n",
    "        eps = 1\n",
    "        for ep in range(1, self.max_episode + 1):\n",
    "            state = self.env.reset()\n",
    "            state = torch.tensor(state).to(device).float().unsqueeze(0)\n",
    "            done = False\n",
    "            episode_reward = 0\n",
    "\n",
    "            while not done:\n",
    "                if ep > self.exploration_episodes:\n",
    "                    action = self.act(state, eps)\n",
    "                else:\n",
    "                    action = torch.tensor([np.random.uniform(self.env.action_space.low[0], self.env.action_space.high[0])])\n",
    "                    action = action.unsqueeze(0)\n",
    "                action = torch.tensor(action).to(device)\n",
    "                next_state, reward, done, info = self.env.step(action)\n",
    "                episode_reward += reward\n",
    "\n",
    "                modified_reward = reward + 10 * abs(next_state[1])\n",
    "\n",
    "                next_state = torch.tensor(next_state).to(device).float().unsqueeze(0)\n",
    "                modified_reward = torch.tensor(modified_reward).to(device).float().unsqueeze(0)\n",
    "                done = torch.tensor(done).to(device).unsqueeze(0)\n",
    "\n",
    "                self.memory.push(state, action, next_state, modified_reward, done)\n",
    "                state = next_state\n",
    "\n",
    "                self.optimize()\n",
    "\n",
    "                step += 1\n",
    "                if step % self.target_update_rate == 0:\n",
    "                    self.Model.update_target_networks()\n",
    "\n",
    "                if done:\n",
    "                    if episode_reward > self.min_score:\n",
    "                        print(episode_reward, 'at episdoe', ep)\n",
    "\n",
    "            eps = max(eps * 0.95, 0.1)\n",
    "            all_scores.append(episode_reward)\n",
    "\n",
    "            if ep % 10 == 0:\n",
    "                print('episode', ep, ':', np.mean(all_scores[:-10:-1]), 'average score')\n",
    "\n",
    "            if np.mean(all_scores[:-15:-1]) >= self.goal:\n",
    "                successful_sequences += 1\n",
    "                if successful_sequences == 5:\n",
    "                    print('success at episode', ep)\n",
    "                    return all_scores\n",
    "            else:\n",
    "                successful_sequences = 0\n",
    "\n",
    "        return all_scores\n",
    "\n",
    "    def test(self, episodes=100, render=False):\n",
    "        state = self.env.reset()\n",
    "        state = torch.tensor(state).to(device).float().unsqueeze(0)\n",
    "        ep_count = 0\n",
    "        current_episode_reward = 0\n",
    "        scores = []\n",
    "        while ep_count < episodes:\n",
    "            if render:\n",
    "                self.env.render()\n",
    "            action = self.act(state, 0)\n",
    "            state, reward, done, _ = self.env.step(action)\n",
    "            state = torch.tensor(state).to(device).float().unsqueeze(0)\n",
    "            current_episode_reward += reward\n",
    "\n",
    "            if done:\n",
    "                ep_count += 1\n",
    "                scores.append(current_episode_reward)\n",
    "                current_episode_reward = 0\n",
    "                state = self.env.reset()\n",
    "                state = torch.tensor(state).to(device).float().unsqueeze(0)\n",
    "\n",
    "        print('average score:', sum(scores) / len(scores))\n",
    "        print('max reward:', max(scores))\n",
    "        print('-----')\n",
    "        print()\n",
    "\n",
    "    def save(self, name='DDPG_agent.pkl'):\n",
    "        self.Model.save(name)\n"
   ]
  },
  {
   "cell_type": "markdown",
   "metadata": {},
   "source": [
    "### Подготовим агента"
   ]
  },
  {
   "cell_type": "code",
   "execution_count": 16,
   "metadata": {},
   "outputs": [],
   "source": [
    "layers = (256, 256, n_states, n_actions)\n",
    "\n",
    "Model = DDPG(layers, polyak=0.999, \\\n",
    "            critic_lr=0.001, critic_optim_method=optim.Adam, critic_loss=F.mse_loss, \\\n",
    "            actor_lr=0.0001, actor_optim_method=optim.Adam)\n",
    "\n",
    "noise = Noise(0, 0.15, 0.2, n_actions)\n",
    "\n",
    "MountainCarAgent = Agent(env, Model, noise, goal=91, min_score=-100, \\\n",
    "                gamma=0.9, batch_size=128, memory_size=20000, max_episode=100, upd_rate=1, exploration_episodes=10)"
   ]
  },
  {
   "cell_type": "markdown",
   "metadata": {},
   "source": [
    "#### Запустим обучение"
   ]
  },
  {
   "cell_type": "code",
   "execution_count": 17,
   "metadata": {},
   "outputs": [
    {
     "name": "stdout",
     "output_type": "stream",
     "text": [
      "-31.474966296827183 at episdoe 1\n",
      "-32.3332240106789 at episdoe 2\n",
      "-33.21047735648885 at episdoe 3\n",
      "-32.50320925156587 at episdoe 4\n",
      "-33.31074066166956 at episdoe 5\n",
      "-33.117876987029035 at episdoe 6\n",
      "-33.60144792398803 at episdoe 7\n",
      "-34.48103695576966 at episdoe 8\n",
      "-32.990729177490145 at episdoe 9\n",
      "-34.96613735812459 at episdoe 10\n",
      "episode 10 : -33.3905421869783 average score\n",
      "96.90255742849581 at episdoe 11\n",
      "95.40419095742763 at episdoe 12\n",
      "95.64473290673475 at episdoe 13\n",
      "95.21930040929921 at episdoe 14\n",
      "94.77367090795892 at episdoe 15\n",
      "94.60065728532072 at episdoe 16\n",
      "96.33985691272693 at episdoe 17\n",
      "95.86782104828362 at episdoe 18\n",
      "96.34561538256686 at episdoe 19\n",
      "95.41110178715576 at episdoe 20\n",
      "episode 20 : 95.51188306638603 average score\n",
      "96.19968165833617 at episdoe 21\n",
      "94.5589985649333 at episdoe 22\n",
      "95.73672180062093 at episdoe 23\n",
      "92.7515445953659 at episdoe 24\n",
      "91.5378381311591 at episdoe 25\n",
      "94.22952361989223 at episdoe 26\n",
      "90.53419155856346 at episdoe 27\n",
      "91.33060599457602 at episdoe 28\n",
      "success at episode 28\n"
     ]
    }
   ],
   "source": [
    "scores = MountainCarAgent.train()"
   ]
  },
  {
   "cell_type": "markdown",
   "metadata": {},
   "source": [
    "#### Протестируем агента на 100 эпизодах"
   ]
  },
  {
   "cell_type": "code",
   "execution_count": 18,
   "metadata": {},
   "outputs": [
    {
     "name": "stdout",
     "output_type": "stream",
     "text": [
      "average score: 92.04654421247142\n",
      "max reward: 94.95437940711322\n",
      "-----\n",
      "\n"
     ]
    }
   ],
   "source": [
    "MountainCarAgent.test(episodes=100)"
   ]
  },
  {
   "cell_type": "markdown",
   "metadata": {},
   "source": [
    "#### Построим график обучения"
   ]
  },
  {
   "cell_type": "markdown",
   "metadata": {},
   "source": [
    "Как можно заметить, первые 10 эпизодов агент делает абсолютно рандомные действия из равномерного распределения.\n",
    "В среднем это дает -33 скора за каждый эпизод, все это время агент так же сохраняет в буфер транзишны и обучается на батчах. Таким образом, по идее, к 11 эпизоду агент гарантированно выбивает 90+- скора и в локальный минимум не попадает. В итоге за последующие ~20 эпизодов агент обучается на действиях, которые дают нормальный скор. После этого обучение автоматом останавливается и обученный агент способен решить поставленную задачу"
   ]
  },
  {
   "cell_type": "code",
   "execution_count": 19,
   "metadata": {},
   "outputs": [
    {
     "data": {
      "image/png": "[encoded data removed]",
      "text/plain": [
       "<Figure size 432x288 with 1 Axes>"
      ]
     },
     "metadata": {
      "needs_background": "light"
     },
     "output_type": "display_data"
    }
   ],
   "source": [
    "episodes = range(len(scores))\n",
    "plt.plot(episodes, scores)\n",
    "plt.xlabel('episodes')\n",
    "plt.ylabel('target net average score')\n",
    "plt.show()"
   ]
  },
  {
   "cell_type": "code",
   "execution_count": null,
   "metadata": {},
   "outputs": [],
   "source": []
  }
 ],
 "metadata": {
  "kernelspec": {
   "display_name": "Python 3",
   "language": "python",
   "name": "python3"
  },
  "language_info": {
   "codemirror_mode": {
    "name": "ipython",
    "version": 3
   },
   "file_extension": ".py",
   "mimetype": "text/x-python",
   "name": "python",
   "nbconvert_exporter": "python",
   "pygments_lexer": "ipython3",
   "version": "3.7.5"
  }
 },
 "nbformat": 4,
 "nbformat_minor": 4
}
